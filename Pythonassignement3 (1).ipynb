{
 "cells": [
  {
   "cell_type": "code",
   "execution_count": 1,
   "id": "3969fda6-5c83-46a2-954a-6b7bdbb31baf",
   "metadata": {},
   "outputs": [
    {
     "name": "stdout",
     "output_type": "stream",
     "text": [
      "[('Sachin Tendulkar', 34357), ('Ricky Ponting', 27483), ('Jack Kallis', 25534), ('Virat Kohli', 24936)]\n"
     ]
    }
   ],
   "source": [
    "##Q1. Create a python program to sort the given list of tuples based on integer value using a\n",
    "##lambda function.\n",
    "data=[('Sachin Tendulkar', 34357), ('Ricky Ponting', 27483), ('Jack Kallis', 25534), ('Virat Kohli', 24936)]\n",
    "sorted_data=sorted(data, key=lambda x:x[1] ,reverse=True)\n",
    "print(sorted_data)"
   ]
  },
  {
   "cell_type": "code",
   "execution_count": 3,
   "id": "5d07134d-2d86-4e43-bec0-cecf3ef7c202",
   "metadata": {},
   "outputs": [
    {
     "name": "stdout",
     "output_type": "stream",
     "text": [
      "[1, 4, 9, 16, 25, 36, 49, 64, 81, 100]\n"
     ]
    }
   ],
   "source": [
    "##Q2. Write a Python Program to find the squares of all the numbers in the given list of integers using\n",
    "##lambda and map functions.\n",
    "lst=[1, 2, 3, 4, 5, 6, 7, 8, 9, 10]\n",
    "square_no=list(map( lambda x: x**2,lst))\n",
    "print(square_no)"
   ]
  },
  {
   "cell_type": "code",
   "execution_count": 7,
   "id": "06502f37-7c14-44ab-9535-e7a0350f2926",
   "metadata": {},
   "outputs": [
    {
     "name": "stdout",
     "output_type": "stream",
     "text": [
      "('1', '2', '3', '4', '5', '6', '7', '8', '9', '10')\n"
     ]
    }
   ],
   "source": [
    "##Q3. Write a python program to convert the given list of integers into a tuple of strings. Use map and\n",
    "##lambda functions\n",
    "##Given String: [1, 2, 3, 4, 5, 6, 7, 8, 9, 10]\n",
    "lst=[1,2,3,4,5,6,7,8,9,10]\n",
    "lst1=tuple(map(lambda x: str(x),lst))\n",
    "print(lst1)"
   ]
  },
  {
   "cell_type": "code",
   "execution_count": 9,
   "id": "382091eb-b7ae-4dff-a490-b2102aa9435a",
   "metadata": {},
   "outputs": [
    {
     "name": "stdout",
     "output_type": "stream",
     "text": [
      "15511210043330985984000000\n"
     ]
    }
   ],
   "source": [
    "##Q4. Write a python program using reduce function to compute the product of a list containing numbers\n",
    "##from 1 to 25.\n",
    "from functools import reduce\n",
    "numbers=range(1,26)\n",
    "product=reduce(lambda x,y:x*y,numbers)\n",
    "print(product)"
   ]
  },
  {
   "cell_type": "code",
   "execution_count": 10,
   "id": "d3fc2636-84b9-4b7f-8a47-a40eb53c4851",
   "metadata": {},
   "outputs": [
    {
     "name": "stdout",
     "output_type": "stream",
     "text": [
      "[6, 60, 90, 120]\n"
     ]
    }
   ],
   "source": [
    "#Q5. Write a python program to filter the numbers in a given list that are divisible by 2 and 3 using the\n",
    "#filter function.\n",
    "lst=[2,3,6,9,27,60,90,120,55,46]\n",
    "lst1=list(filter(lambda x: x%2==0 and x%3==0, lst))\n",
    "print(lst1)\n",
    "          "
   ]
  },
  {
   "cell_type": "code",
   "execution_count": 13,
   "id": "ae13b0b8-dcf8-40a5-8136-9b5e98282706",
   "metadata": {},
   "outputs": [
    {
     "name": "stdout",
     "output_type": "stream",
     "text": [
      "['php', 'aba', 'radar', 'level']\n"
     ]
    }
   ],
   "source": [
    "##Q6. Write a python program to find palindromes in the given list of strings using lambda and filter\n",
    "##function.\n",
    "lst=['python','php','aba','radar','level']\n",
    "result = list(filter(lambda x: (x == \"\".join(reversed(x))), lst))\n",
    "print(result)\n"
   ]
  },
  {
   "cell_type": "code",
   "execution_count": null,
   "id": "25ffaf21-b610-440e-8b14-bd083008a91d",
   "metadata": {},
   "outputs": [],
   "source": []
  }
 ],
 "metadata": {
  "kernelspec": {
   "display_name": "Python 3 (ipykernel)",
   "language": "python",
   "name": "python3"
  },
  "language_info": {
   "codemirror_mode": {
    "name": "ipython",
    "version": 3
   },
   "file_extension": ".py",
   "mimetype": "text/x-python",
   "name": "python",
   "nbconvert_exporter": "python",
   "pygments_lexer": "ipython3",
   "version": "3.10.8"
  }
 },
 "nbformat": 4,
 "nbformat_minor": 5
}
